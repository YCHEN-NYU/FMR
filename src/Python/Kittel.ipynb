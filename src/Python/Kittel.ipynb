{
 "cells": [
  {
   "cell_type": "code",
   "execution_count": 11,
   "metadata": {},
   "outputs": [],
   "source": [
    "# load Packages & Settings\n",
    "import os\n",
    "import numpy as np\n",
    "\n",
    "def get_files(rootdir, suffix):\n",
    "    file_list = []\n",
    "    for subdir, dirs, files in os.walk(rootdir):\n",
    "        for file in files:\n",
    "            if file.endswith(suffix):\n",
    "                file_list.append(os.path.join(subdir, file))\n",
    "    file_list.sort(key=lambda x: x)\n",
    "    return file_list\n",
    "\n",
    "# load data from file and return it as numpy-array\n",
    "def load_data(filename):\n",
    "    arr = []\n",
    "    temp = []\n",
    "    for line in [line for line in open(filename, 'r')]:\n",
    "            # parse each line and convert to floating\n",
    "        while(line != ''):\n",
    "            temp = [float(element) for element in line.split(',') if (element != '')] \n",
    "            temp =  np.array(temp[:]) \n",
    "            # shape into columns\n",
    "            temp.reshape(-1,1)\n",
    "            arr.append(temp)\n",
    "    # release the temp variable\n",
    "    del temp\n",
    "    return np.array(arr)"
   ]
  },
  {
   "cell_type": "code",
   "execution_count": 30,
   "metadata": {},
   "outputs": [
    {
     "name": "stdout",
     "output_type": "stream",
     "text": [
      "    9123.27\n",
      "     57.180\n",
      "     56.498\n",
      "     57.861\n",
      "\n",
      "    9814.23\n",
      "     62.756\n",
      "     62.036\n",
      "     63.476\n",
      "\n",
      "   10503.53\n",
      "     69.714\n",
      "     68.889\n",
      "     70.540\n",
      "\n",
      "   11190.54\n",
      "     74.713\n",
      "     73.847\n",
      "     75.579\n",
      "\n",
      "   11876.29\n",
      "     81.999\n",
      "     81.317\n",
      "     82.682\n",
      "\n",
      "   12561.14\n",
      "     85.504\n",
      "     83.764\n",
      "     87.244\n",
      "\n",
      "   13243.61\n",
      "     90.700\n",
      "     88.932\n",
      "     92.468\n"
     ]
    }
   ],
   "source": [
    "filename = '/Users/yiyi/Desktop/PPMS_FMR/2.3nmCoFeB2018-0013-280To20K-v3/280K.txt'\n",
    "arr = []\n",
    "temp = []\n",
    "for line in [line for line in open(filename, 'r')]:\n",
    "    # parse each line and convert to floating\n",
    "    for element in line.split(','):\n",
    "        if (element != '' and type(eval(element)) == float):\n",
    "            print(element)\n",
    "#     temp = [float(element) for element in line.split(',') if (element != '' and type(eval(element)) == float)]\n",
    "#     print(temp)\n",
    "#         temp =  np.array(temp[:]) \n",
    "#     # shape into columns\n",
    "#         temp.reshape(-1,1)\n",
    "#         arr.append(temp)"
   ]
  },
  {
   "cell_type": "code",
   "execution_count": null,
   "metadata": {},
   "outputs": [],
   "source": []
  },
  {
   "cell_type": "code",
   "execution_count": 33,
   "metadata": {},
   "outputs": [
    {
     "name": "stdout",
     "output_type": "stream",
     "text": [
      "/Users/yiyi/Desktop/PPMS_FMR/2.3nmCoFeB2018-0013-280To20K-v3/240K.txt\n",
      "240 K:  [0.03453125 0.62991283]\n",
      "/Users/yiyi/Desktop/PPMS_FMR/2.3nmCoFeB2018-0013-280To20K-v3/280K.txt\n",
      "280 K:  [0.034335   0.63806157]\n"
     ]
    },
    {
     "data": {
      "image/png": "[encoded data removed]",
      "text/plain": [
       "<Figure size 576x432 with 1 Axes>"
      ]
     },
     "metadata": {
      "needs_background": "light"
     },
     "output_type": "display_data"
    }
   ],
   "source": [
    "#############################\n",
    "#############################\n",
    "# Name: load_data.py\n",
    "# Author: YCHEN-NYU, last modified: 2018-02-05\n",
    "# Institution: NYU, Email: yc1224@nyu.edu\n",
    "# Structure of Data Sets:\n",
    "# row:  1, 2, 3, 4, 5\n",
    "# data: angle(degree), Hall-omega-X1, Hall-omega-Y1, RL-2omega-X2, RL-2omega-Y2\n",
    "# Summary: \n",
    "# Load rawdata from Lockin Measurements of YIG/Pt sample\n",
    "# Average out X-1, Y-1, X-2, Y-2 for the sample angle, export the data into .csv file\n",
    "#############################\n",
    "#############################\n",
    "\n",
    "from load_data import *\n",
    "from functions import *\n",
    "import matplotlib.pyplot as plt\n",
    "import numpy as np\n",
    "import pandas as pd\n",
    "from matplotlib.pyplot import cm\n",
    "from sklearn import linear_model\n",
    "from scipy.optimize import curve_fit\n",
    "\n",
    "\n",
    "# define the root-directory and the sub-directory\n",
    "rootDir = \"/Users/yiyi/Desktop/PPMS_FMR/\"\n",
    "subDir = \"2.3nmCoFeB2018-0013-280To20K-v3\"\n",
    "os.chdir(rootDir + subDir)\n",
    "\n",
    "file_list = get_files(rootDir + subDir, 'K.txt')\n",
    "column_names = ['freq_GHz', 'Hres_Oe', 'FWHM_Oe', 'FWHM_Upper_Oe', 'FWHM_Lower_Oe']\n",
    "params  = []\n",
    "iColor = 0\n",
    "\n",
    "fig, ax = plt.subplots(figsize=(8, 6))\n",
    "for file in file_list:\n",
    "    print(file)\n",
    "    data = load_data(file)\n",
    "    data = pd.DataFrame(data)\n",
    "    data.columns = column_names\n",
    "    temperature = file.split(subDir + \"/\")[1].split('K.txt')[0]\n",
    "    popt, pcov = curve_fit(linear, data['freq_GHz'], data['Hres_Oe']/1e4, p0 = None, maxfev=10000) \n",
    "    xmesh = np.linspace(0, 25, 100)\n",
    "    ymesh = linear(xmesh, *popt)\n",
    "    print(temperature, 'K: ', popt)\n",
    "    plt.plot(data['freq_GHz'], data['Hres_Oe']/1e4, color = 'C' + str(iColor%9),\n",
    "             marker = 'o', markersize = 10, linestyle = 'none', label = temperature + ' K')\n",
    "    plt.plot(xmesh, ymesh, linestyle = '-', linewidth = 1, color = 'C' + str(iColor%9))\n",
    "    params.append([float(temperature), popt[1], popt[0]])\n",
    "    iColor = iColor + 1\n",
    "\n",
    "fontSize = 42\n",
    "ax.tick_params(axis='both', direction=\"in\", length=10, width=5)\n",
    "plt.ylabel(r'$\\mathrm {H_{res}(T)}$', fontsize=fontSize)\n",
    "plt.xlabel(r'$\\mathrm {Frequency(GHz)}$', fontsize=fontSize)\n",
    "YTicks = np.linspace(.5, 1.5, 3)\n",
    "XTicks = np.linspace(0, 25, 6)\n",
    "XLIM = [4, 22]\n",
    "YLIM = [0.6, 1.6]\n",
    "plt.xticks(XTicks, fontsize=fontSize)\n",
    "plt.yticks(YTicks, fontsize=fontSize)\n",
    "plt.xlim(XLIM)\n",
    "plt.ylim(YLIM)\n",
    "plt.legend(fontsize = 24)\n",
    "plt.tight_layout()\n",
    "# plt.savefig('./Hres-freq.png', dpi=300, bbox_inches='tight')\n",
    "plt.show()"
   ]
  },
  {
   "cell_type": "code",
   "execution_count": null,
   "metadata": {},
   "outputs": [],
   "source": []
  }
 ],
 "metadata": {
  "kernelspec": {
   "display_name": "Python 3",
   "language": "python",
   "name": "python3"
  },
  "language_info": {
   "codemirror_mode": {
    "name": "ipython",
    "version": 3
   },
   "file_extension": ".py",
   "mimetype": "text/x-python",
   "name": "python",
   "nbconvert_exporter": "python",
   "pygments_lexer": "ipython3",
   "version": "3.6.3"
  }
 },
 "nbformat": 4,
 "nbformat_minor": 2
}
